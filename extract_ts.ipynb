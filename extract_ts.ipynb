{
 "cells": [
  {
   "cell_type": "markdown",
   "id": "9f1f9d9a-8a0d-4d85-b134-f0bda3727152",
   "metadata": {},
   "source": [
    "# Point Time Series extraction"
   ]
  },
  {
   "cell_type": "markdown",
   "id": "8f7494ce-4f3b-4160-b6dd-11c61f22227e",
   "metadata": {},
   "source": [
    "## 0 - initialisation steps"
   ]
  },
  {
   "cell_type": "markdown",
   "id": "5e2122ef-88a8-4d77-988c-3cb26b156e84",
   "metadata": {},
   "source": [
    "### 0.1 - Import libs"
   ]
  },
  {
   "cell_type": "code",
   "execution_count": null,
   "id": "a75e78de-8687-4632-8586-9ca964b31045",
   "metadata": {},
   "outputs": [],
   "source": [
    "import time \n",
    "from pathlib import Path\n",
    "\n",
    "import ee\n",
    "\n",
    "import helpers as h\n",
    "\n",
    "# initialize EE    \n",
    "try:\n",
    "    ee.Initialize(opt_url='https://earthengine-highvolume.googleapis.com')\n",
    "except:\n",
    "    ee.Authenticate()\n",
    "    ee.Initialize(opt_url='https://earthengine-highvolume.googleapis.com')"
   ]
  },
  {
   "cell_type": "markdown",
   "id": "16a8922e-ba2c-400b-a7e3-f384e3e4e7c1",
   "metadata": {},
   "source": [
    "### 0.2 - Basic inputs"
   ]
  },
  {
   "cell_type": "code",
   "execution_count": null,
   "id": "3ba6ffcd-ed98-46a4-9c47-0f08bc13311e",
   "metadata": {},
   "outputs": [],
   "source": [
    "country = \"kenya\" # country case\n",
    "\n",
    "grid_size = 0.5 # Grid Size (in degrees)\n",
    "\n",
    "workers = 10 # number of parallel EE requests\n",
    "\n",
    "asset = \"my_featurecollection_path\" # the point featurecollection asset\n",
    "point_id_name = \"Point_ID\"  # the column/property within your point feature collection from which to take the UNIQUE point id\n",
    "\n",
    "# Time of interest (onsidering the historical period)\n",
    "start_date = \"2010-01-01\"\n",
    "end_date = \"2018-12-31\"\n",
    "\n",
    "# Monitoring period\n",
    "start_monitor = \"2014-01-01\"\n",
    "\n",
    "# Directory where output and temp files will go\n",
    "# relative path from home\n",
    "outdir = f\"ts_extract/{country.lower()}/\"\n",
    "\n",
    "# Select algorithms to run\n",
    "cusum_deforest = True\n",
    "bfast_monitor = True\n",
    "bs_slope = True\n",
    "ts_metrics = True\n",
    "ccdc = True\n",
    "\n",
    "### DO NOT CHANGE YET ###\n",
    "# bandname\n",
    "band='ndvi'\n",
    "satellite='Landsat'"
   ]
  },
  {
   "cell_type": "markdown",
   "id": "706a661e-c950-41a5-b8ab-90695db00b07",
   "metadata": {},
   "source": [
    "### 0.3 - Generate the aoi  "
   ]
  },
  {
   "cell_type": "code",
   "execution_count": null,
   "id": "e76f94f3-de72-4f74-a088-e06fb950bfdd",
   "metadata": {},
   "outputs": [],
   "source": [
    "aoi = ee.FeatureCollection(\"FAO/GAUL/2015/level0\").filter(ee.Filter.eq('ADM0_NAME', country.capitalize())) # here any feature collection can be selected\n",
    "fc = ee.FeatureCollection(asset).filterBounds(aoi)"
   ]
  },
  {
   "cell_type": "markdown",
   "id": "dcf774a3-d9a7-4e8c-b67c-30b609a3a0ab",
   "metadata": {},
   "source": [
    "## 1 - extract time series"
   ]
  },
  {
   "cell_type": "markdown",
   "id": "1d4dc5b2-3d18-429e-ae4a-5b16f677448a",
   "metadata": {},
   "source": [
    "### 1.1 - Algorithm parameter settings"
   ]
  },
  {
   "cell_type": "code",
   "execution_count": null,
   "id": "e8fe65b6-268e-418d-bab0-0837542a1ee1",
   "metadata": {},
   "outputs": [],
   "source": [
    "# bfast parameters\n",
    "bfast_params = {\n",
    "    'run': bfast_monitor,\n",
    "    'start_monitor': start_monitor, \n",
    "    'freq': 365,\n",
    "    'k': 3, \n",
    "    'hfrac':0.25, \n",
    "    'trend': False, \n",
    "    'level':0.05, \n",
    "    'backend':'python'}\n",
    "\n",
    "cusum_params = {\n",
    "    'run': cusum_deforest,\n",
    "    'nr_of_bootstraps': 1000\n",
    "}\n",
    "\n",
    "bs_slope_params = {\n",
    "    'run': bs_slope,\n",
    "    'nr_of_bootstraps': 1000\n",
    "}\n",
    "\n",
    "ts_metrics_params = {\n",
    "    'run': ts_metrics,\n",
    "    'outlier_removal': True,\n",
    "    'z_threshhold': 3\n",
    "}\n",
    "\n",
    "ccdc_params = {\n",
    "    'run': ccdc,\n",
    "}\n",
    "\n",
    "### DO NOT CHANGE ###\n",
    "### GATHER ALL INFO INTO A DICT #####\n",
    "config_dict = {\n",
    "    'work_dir': str(Path.home()/outdir),\n",
    "    'workers': workers,\n",
    "    'ts_params': {\n",
    "        'start_date': start_date,\n",
    "        'start_monitor': start_monitor,\n",
    "        'end_date': end_date,\n",
    "        'point_id': point_id_name,\n",
    "        'grid_size': grid_size,\n",
    "        'band': band,\n",
    "        'satellite': satellite\n",
    "    },\n",
    "    'bfast_params': bfast_params,\n",
    "    'cusum_params': cusum_params,\n",
    "    'bs_slope_params': bs_slope_params,\n",
    "    'ts_metrics_params': ts_metrics_params,\n",
    "    'ccdc_params': ccdc_params\n",
    "}"
   ]
  },
  {
   "cell_type": "markdown",
   "id": "2d5c28df-5381-413c-924d-23830b97b87e",
   "metadata": {},
   "source": [
    "### 1.2 - Run the whole thing"
   ]
  },
  {
   "cell_type": "code",
   "execution_count": null,
   "id": "01ccf187-bba1-4e1a-a493-d646f51b9fc3",
   "metadata": {},
   "outputs": [],
   "source": [
    "h.get_change_data(aoi, fc, config_dict)"
   ]
  },
  {
   "cell_type": "code",
   "execution_count": null,
   "id": "f869e3ec-b6f1-41ec-a9d6-905239995fb1",
   "metadata": {},
   "outputs": [],
   "source": []
  }
 ],
 "metadata": {
  "kernelspec": {
   "display_name": "Python 3",
   "language": "python",
   "name": "python3"
  },
  "language_info": {
   "codemirror_mode": {
    "name": "ipython",
    "version": 3
   },
   "file_extension": ".py",
   "mimetype": "text/x-python",
   "name": "python",
   "nbconvert_exporter": "python",
   "pygments_lexer": "ipython3",
   "version": "3.8.10"
  }
 },
 "nbformat": 4,
 "nbformat_minor": 5
}
