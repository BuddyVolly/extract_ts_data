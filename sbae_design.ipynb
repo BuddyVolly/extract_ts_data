{
 "cells": [
  {
   "cell_type": "markdown",
   "id": "568f3fbd-5111-48a6-b8dc-9a3c6ff18c1d",
   "metadata": {},
   "source": [
    "# Sample Base area estimation - design"
   ]
  },
  {
   "cell_type": "markdown",
   "id": "011116cc-1f0c-4b04-9cc0-4224b3351923",
   "metadata": {},
   "source": [
    "## 0 - initialisation steps"
   ]
  },
  {
   "cell_type": "markdown",
   "id": "1a4a7460-727f-47ea-8b6e-14465b19f5c2",
   "metadata": {},
   "source": [
    "### 0.1 - Import libs"
   ]
  },
  {
   "cell_type": "code",
   "execution_count": null,
   "id": "84e0aeb2-a0c4-4d73-ae02-254df28edb2b",
   "metadata": {},
   "outputs": [],
   "source": [
    "import time \n",
    "from pathlib import Path\n",
    "from datetime import datetime as dt\n",
    "\n",
    "import ee\n",
    "import geopandas as gpd\n",
    "import pandas as pd \n",
    "from sepal_ui.mapping import SepalMap\n",
    "\n",
    "import helpers as h\n",
    "\n",
    "# initialize EE    \n",
    "try:\n",
    "    ee.Initialize(opt_url='https://earthengine-highvolume.googleapis.com')\n",
    "except:\n",
    "    ee.Authenticate()\n",
    "    ee.Initialize(opt_url='https://earthengine-highvolume.googleapis.com')"
   ]
  },
  {
   "cell_type": "markdown",
   "id": "6a3a3260-dbef-498f-a149-9551e036c6d0",
   "metadata": {},
   "source": [
    "### 0.1 - Basic inputs"
   ]
  },
  {
   "cell_type": "code",
   "execution_count": null,
   "id": "c9394d7e-f559-4ac8-bc96-2a00ee1ed407",
   "metadata": {},
   "outputs": [],
   "source": [
    "country = \"kenya\" # country case\n",
    "\n",
    "grid_size = 0.5 # Grid Size (in degrees)\n",
    "\n",
    "# Directory where output and temp files will go\n",
    "# relative path from home\n",
    "outdir = f\"sbae_design/{country.lower()}/\""
   ]
  },
  {
   "cell_type": "markdown",
   "id": "648cead3-7a11-4f1d-90fd-66b8d440de22",
   "metadata": {},
   "source": [
    "## 1 - Generate the grid "
   ]
  },
  {
   "cell_type": "markdown",
   "id": "78341efe-570a-4112-869a-57d398242d05",
   "metadata": {},
   "source": [
    "### 1.1 - Generate the grid points"
   ]
  },
  {
   "cell_type": "code",
   "execution_count": null,
   "id": "bfd2d241-44d1-454f-9258-f9807cd424b9",
   "metadata": {},
   "outputs": [],
   "source": [
    "# Generate the grid\n",
    "aoi = ee.FeatureCollection(\"FAO/GAUL/2015/level0\").filter(ee.Filter.eq('ADM0_NAME', country.capitalize()))\n",
    "\n",
    "grid = h.generate_grid(aoi, grid_size, grid_size, 0, 0)[1]\n",
    "\n",
    "# get a random point over each grid cell\n",
    "randomInCell = grid.map(h.getRandomPoint)\n",
    "\n",
    "# get the centroid of each gridcell\n",
    "centerInCell = grid.map(h.getCenterPoint)\n",
    "\n",
    "# stratified sampling based on ESA LC\n",
    "imageCollection = ee.ImageCollection(\"ESA/WorldCover/v100\")\n",
    "esaLc = imageCollection.filterBounds(aoi).first().clip(aoi)\n",
    "\n",
    "stratifiedSamples = esaLc.stratifiedSample(**{\n",
    "    \"numPoints\": 5,\n",
    "    \"region\": aoi,\n",
    "    \"scale\": 100, \n",
    "    \"seed\": 42, \n",
    "    \"tileScale\": 4, \n",
    "    \"geometries\": True\n",
    "}).map(h.setId)"
   ]
  },
  {
   "cell_type": "markdown",
   "id": "afbcb301-59cf-4613-85cc-00c90c84e108",
   "metadata": {},
   "source": [
    "### 1.2 - Display in a map"
   ]
  },
  {
   "cell_type": "code",
   "execution_count": null,
   "id": "0455a1e5-80c0-4a63-9ab5-31e1d92a05c6",
   "metadata": {
    "tags": []
   },
   "outputs": [],
   "source": [
    "Map = SepalMap(['HYBRID'])\n",
    "Map.zoom_ee_object(aoi.geometry())\n",
    "\n",
    "Map.addLayer(ee.Image().byte().paint(featureCollection=aoi,color=1,width=3), {\"palette\": \"blue\"}, f\"aoi: {country}\")\n",
    "Map.addLayer(ee.Image().byte().paint(featureCollection=grid,color=1,width=3), {\"palette\": \"black\"}, \"gridcells\")\n",
    "Map.addLayer(centerInCell.draw(color=\"white\", pointRadius=1), {}, '1 Center Sample per gridcell')\n",
    "Map.addLayer(randomInCell.draw(color=\"purple\", pointRadius=1), {}, '1 random Sample per gridcell')\n",
    "\n",
    "Map"
   ]
  },
  {
   "cell_type": "markdown",
   "id": "5d17dfd9-abea-4612-8d1a-049d7cb2df6e",
   "metadata": {},
   "source": [
    "### 1.3 add auxiliary data from global datasets "
   ]
  },
  {
   "cell_type": "code",
   "execution_count": null,
   "id": "d8df69ea-3834-473e-af76-3a5622cea688",
   "metadata": {},
   "outputs": [],
   "source": [
    "## Global Forest Change (Hansen et al., 2013)\n",
    "gfc_col = ee.Image('UMD/hansen/global_forest_change_2020_v1_8').select(['treecover2000','loss','lossyear','gain'],['gfc_tc00','gfc_loss','gfc_year','gfc_gain'])\n",
    "\n",
    "## ESA WorldCover 2020\n",
    "esa_20  = ee.Image('ESA/WorldCover/v100/2020').rename('esa_lc20')\n",
    "\n",
    "## Tropical Moist Forest - JRC 2021\n",
    "tmf_annual= ee.ImageCollection('projects/JRC/TMF/v1_2020/AnnualChanges').mosaic()\n",
    "tmf_annual_n = tmf_annual.rename(tmf_annual.bandNames().map(h.rename_TMF))\n",
    "\n",
    "tmf_subtp = ee.ImageCollection('projects/JRC/TMF/v1_2020/TransitionMap_Subtypes').mosaic().rename('tmf_subtypes')\n",
    "tmf_main  = ee.ImageCollection('projects/JRC/TMF/v1_2020/TransitionMap_MainClasses').mosaic().rename('tmf_main_cl')\n",
    "tmf_deg   = ee.ImageCollection('projects/JRC/TMF/v1_2020/DegradationYear').mosaic().rename('tmf_deg_yr')\n",
    "tmf_def   = ee.ImageCollection('projects/JRC/TMF/v1_2020/DeforestationYear').mosaic().rename('tmf_def_yr')\n",
    "\n",
    "##  COMBINE COLLECTIONS\n",
    "glo_ds = esa_20.addBands(gfc_col).addBands(tmf_subtp).addBands(tmf_main).addBands(tmf_deg).addBands(tmf_def).addBands(tmf_annual_n)\n",
    "\n",
    "## EXTRACT THE DATA TO THE POINTS\n",
    "columns = [\n",
    "    'esa_lc20','gfc_tc00','gfc_loss','gfc_year','gfc_gain', 'tmf_main_cl','tmf_subtypes','tmf_1990','tmf_1995',\n",
    "    'tmf_2000','tmf_2005','tmf_2010','tmf_2015','tmf_2020','tmf_def_yr','tmf_deg_yr',\n",
    "]\n",
    "centerPtsAux = glo_ds.reduceRegions(**{\n",
    "  \"reducer\": ee.Reducer.first(),\n",
    "  \"collection\": centerInCell\n",
    "}).select(['point_id',*columns, '.geo'])"
   ]
  },
  {
   "cell_type": "markdown",
   "id": "d9bff96d-0605-42b4-a24d-28fca7a029cd",
   "metadata": {},
   "source": [
    "### 1.4 extract as a table "
   ]
  },
  {
   "cell_type": "code",
   "execution_count": null,
   "id": "a21cc00d-d414-4882-a22a-3687f6c8afd9",
   "metadata": {},
   "outputs": [],
   "source": [
    "json = centerPtsAux.getInfo()"
   ]
  },
  {
   "cell_type": "code",
   "execution_count": null,
   "id": "238458e2-807a-4d20-a872-cec57ed9925d",
   "metadata": {},
   "outputs": [],
   "source": [
    "## MAKE AS A GEODATAFRAME AND EXPORT\n",
    "gdf = gpd.GeoDataFrame.from_features(json)\n",
    "gdf = gdf.join(gdf[\"geometry\"].apply(lambda p: list(p.coords)).explode().apply(pd.Series).rename(columns=({0:\"LON\", 1:\"LAT\"})))\n",
    "gdf['PLOTID']=gdf['point_id']\n",
    "gdf = gdf[['LON', 'LAT', 'PLOTID',*columns]]\n",
    "gdf.PLOTID = gdf.PLOTID.astype(str).astype(int)\n",
    "gdf = gdf.sort_values(\"PLOTID\", ascending=True)\n",
    "gdf"
   ]
  },
  {
   "cell_type": "code",
   "execution_count": null,
   "id": "cf34bcb7-2d62-433e-b666-ab5d2d1150db",
   "metadata": {},
   "outputs": [],
   "source": [
    "## Export\n",
    "folder = Path.home()/outdir\n",
    "folder.mkdir(exist_ok=True, parents=True)\n",
    "gdf.to_csv(folder/\"points_ceo.csv\", index=False)"
   ]
  },
  {
   "cell_type": "code",
   "execution_count": null,
   "id": "472e281f-3bba-4e6c-99d1-0b9f196aa734",
   "metadata": {},
   "outputs": [],
   "source": []
  }
 ],
 "metadata": {
  "kernelspec": {
   "display_name": "Python 3",
   "language": "python",
   "name": "python3"
  },
  "language_info": {
   "codemirror_mode": {
    "name": "ipython",
    "version": 3
   },
   "file_extension": ".py",
   "mimetype": "text/x-python",
   "name": "python",
   "nbconvert_exporter": "python",
   "pygments_lexer": "ipython3",
   "version": "3.8.10"
  }
 },
 "nbformat": 4,
 "nbformat_minor": 5
}
