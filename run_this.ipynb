{
 "cells": [
  {
   "cell_type": "markdown",
   "id": "9f1f9d9a-8a0d-4d85-b134-f0bda3727152",
   "metadata": {},
   "source": [
    "# 0 - initialisation steps"
   ]
  },
  {
   "cell_type": "markdown",
   "id": "5e2122ef-88a8-4d77-988c-3cb26b156e84",
   "metadata": {},
   "source": [
    "## 0.1 - Import libs"
   ]
  },
  {
   "cell_type": "code",
   "execution_count": null,
   "id": "a75e78de-8687-4632-8586-9ca964b31045",
   "metadata": {},
   "outputs": [],
   "source": [
    "import time \n",
    "from pathlib import Path\n",
    "from datetime import datetime as dt\n",
    "\n",
    "import ee\n",
    "import geopandas as gpd\n",
    "import pandas as pd \n",
    "from sepal_ui.mapping import SepalMap\n",
    "\n",
    "import helpers as h\n",
    "\n",
    "# initialize EE    \n",
    "try:\n",
    "    ee.Initialize(opt_url='https://earthengine-highvolume.googleapis.com')\n",
    "except:\n",
    "    ee.Authenticate()\n",
    "    ee.Initialize(opt_url='https://earthengine-highvolume.googleapis.com')"
   ]
  },
  {
   "cell_type": "markdown",
   "id": "16a8922e-ba2c-400b-a7e3-f384e3e4e7c1",
   "metadata": {},
   "source": [
    "## 0.1 - Basic inputs"
   ]
  },
  {
   "cell_type": "code",
   "execution_count": null,
   "id": "3ba6ffcd-ed98-46a4-9c47-0f08bc13311e",
   "metadata": {},
   "outputs": [],
   "source": [
    "country = \"kenya\" # country case\n",
    "\n",
    "grid_size = 0.5 # Grid Size (in degrees)\n",
    "\n",
    "workers = 10 # number of parallel EE requests\n",
    "\n",
    "# Time of interest (onsidering the historical period)\n",
    "start_date = \"2010-01-01\"\n",
    "end_date = \"2018-12-31\"\n",
    "\n",
    "# Monitoring period\n",
    "start_monitor = \"2014-01-01\"\n",
    "\n",
    "# Directory where output and temp files will go\n",
    "# relative path from home\n",
    "outdir = f\"ts_extract/{country.lower()}/\"\n",
    "\n",
    "# Select algorithms to run\n",
    "cusum_deforest = True\n",
    "bfast_monitor = True\n",
    "bs_slope = True\n",
    "ts_metrics = True\n",
    "ccdc = True\n",
    "\n",
    "### DO NOT CHANGE YET ###\n",
    "# bandname\n",
    "band='ndvi'\n",
    "satellite='Landsat'"
   ]
  },
  {
   "cell_type": "markdown",
   "id": "706a661e-c950-41a5-b8ab-90695db00b07",
   "metadata": {},
   "source": [
    "# 1 - Generate the grid "
   ]
  },
  {
   "cell_type": "markdown",
   "id": "e4face16-6078-4f6f-bb16-903e094c2fa7",
   "metadata": {},
   "source": [
    "## 1.1 - Generate the grid points"
   ]
  },
  {
   "cell_type": "code",
   "execution_count": null,
   "id": "97ad7284-5f3e-4855-ab34-428ddce8073c",
   "metadata": {},
   "outputs": [],
   "source": [
    "# Generate the grid\n",
    "aoi = ee.FeatureCollection(\"FAO/GAUL/2015/level0\").filter(ee.Filter.eq('ADM0_NAME', country.capitalize()))\n",
    "\n",
    "grid = h.generate_grid(aoi, grid_size, grid_size, 0, 0)[1]\n",
    "\n",
    "# get a random point over each grid cell\n",
    "randomInCell = grid.map(h.getRandomPoint)\n",
    "\n",
    "# get the centroid of each gridcell\n",
    "centerInCell = grid.map(h.getCenterPoint)\n",
    "\n",
    "# stratified sampling based on ESA LC\n",
    "imageCollection = ee.ImageCollection(\"ESA/WorldCover/v100\")\n",
    "esaLc = imageCollection.filterBounds(aoi).first().clip(aoi)\n",
    "\n",
    "stratifiedSamples = esaLc.stratifiedSample(**{\n",
    "    \"numPoints\": 5,\n",
    "    \"region\": aoi,\n",
    "    \"scale\": 100, \n",
    "    \"seed\": 42, \n",
    "    \"tileScale\": 4, \n",
    "    \"geometries\": True\n",
    "}).map(h.setId)"
   ]
  },
  {
   "cell_type": "markdown",
   "id": "bad9e702-9ed4-444b-919f-059379493a93",
   "metadata": {},
   "source": [
    "## 1.2 - Display in a map"
   ]
  },
  {
   "cell_type": "code",
   "execution_count": null,
   "id": "ff7d7293-f352-436e-ad13-7f7bf0de0def",
   "metadata": {
    "tags": []
   },
   "outputs": [],
   "source": [
    "Map = SepalMap(['HYBRID'])\n",
    "Map.zoom_ee_object(aoi.geometry())\n",
    "\n",
    "Map.addLayer(ee.Image().byte().paint(featureCollection=aoi,color=1,width=3), {\"palette\": \"blue\"}, f\"aoi: {country}\")\n",
    "Map.addLayer(ee.Image().byte().paint(featureCollection=grid,color=1,width=3), {\"palette\": \"black\"}, \"gridcells\")\n",
    "Map.addLayer(centerInCell.draw(color=\"white\", pointRadius=1), {}, '1 Center Sample per gridcell')\n",
    "Map.addLayer(randomInCell.draw(color=\"purple\", pointRadius=1), {}, '1 random Sample per gridcell')\n",
    "\n",
    "Map"
   ]
  },
  {
   "cell_type": "markdown",
   "id": "189e2540-165e-403b-8521-0eb9421c91d0",
   "metadata": {},
   "source": [
    "## 1.3 add auxiliary data from global datasets "
   ]
  },
  {
   "cell_type": "code",
   "execution_count": null,
   "id": "cf551fb7-880b-4bfe-8d71-185ab27cf19c",
   "metadata": {},
   "outputs": [],
   "source": [
    "## Global Forest Change (Hansen et al., 2013)\n",
    "gfc_col = ee.Image('UMD/hansen/global_forest_change_2020_v1_8').select(['treecover2000','loss','lossyear','gain'],['gfc_tc00','gfc_loss','gfc_year','gfc_gain'])\n",
    "\n",
    "## ESA WorldCover 2020\n",
    "esa_20  = ee.Image('ESA/WorldCover/v100/2020').rename('esa_lc20')\n",
    "\n",
    "## Tropical Moist Forest - JRC 2021\n",
    "tmf_annual= ee.ImageCollection('projects/JRC/TMF/v1_2020/AnnualChanges').mosaic()\n",
    "tmf_annual_n = tmf_annual.rename(tmf_annual.bandNames().map(h.rename_TMF))\n",
    "\n",
    "tmf_subtp = ee.ImageCollection('projects/JRC/TMF/v1_2020/TransitionMap_Subtypes').mosaic().rename('tmf_subtypes')\n",
    "tmf_main  = ee.ImageCollection('projects/JRC/TMF/v1_2020/TransitionMap_MainClasses').mosaic().rename('tmf_main_cl')\n",
    "tmf_deg   = ee.ImageCollection('projects/JRC/TMF/v1_2020/DegradationYear').mosaic().rename('tmf_deg_yr')\n",
    "tmf_def   = ee.ImageCollection('projects/JRC/TMF/v1_2020/DeforestationYear').mosaic().rename('tmf_def_yr')\n",
    "\n",
    "##  COMBINE COLLECTIONS\n",
    "glo_ds = esa_20.addBands(gfc_col).addBands(tmf_subtp).addBands(tmf_main).addBands(tmf_deg).addBands(tmf_def).addBands(tmf_annual_n)\n",
    "\n",
    "## EXTRACT THE DATA TO THE POINTS\n",
    "columns = [\n",
    "    'esa_lc20','gfc_tc00','gfc_loss','gfc_year','gfc_gain', 'tmf_main_cl','tmf_subtypes','tmf_1990','tmf_1995',\n",
    "    'tmf_2000','tmf_2005','tmf_2010','tmf_2015','tmf_2020','tmf_def_yr','tmf_deg_yr',\n",
    "]\n",
    "centerPtsAux = glo_ds.reduceRegions(**{\n",
    "  \"reducer\": ee.Reducer.first(),\n",
    "  \"collection\": centerInCell\n",
    "}).select(['point_id',*columns, '.geo'])"
   ]
  },
  {
   "cell_type": "markdown",
   "id": "bfdab7c4-4765-4832-95aa-ff6d68a71eb7",
   "metadata": {},
   "source": [
    "## 1.4 extract as a table "
   ]
  },
  {
   "cell_type": "code",
   "execution_count": null,
   "id": "08fb829a-cc7d-4cf6-9581-13c1f7512c8c",
   "metadata": {},
   "outputs": [],
   "source": [
    "json = centerPtsAux.getInfo()"
   ]
  },
  {
   "cell_type": "code",
   "execution_count": null,
   "id": "343b3988-e907-477d-92eb-9135aa9b04e2",
   "metadata": {},
   "outputs": [],
   "source": [
    "## MAKE AS A GEODATAFRAME AND EXPORT\n",
    "gdf = gpd.GeoDataFrame.from_features(json)\n",
    "gdf = gdf.join(gdf[\"geometry\"].apply(lambda p: list(p.coords)).explode().apply(pd.Series).rename(columns=({0:\"LON\", 1:\"LAT\"})))\n",
    "gdf['PLOTID']=gdf['point_id']\n",
    "gdf = gdf[['LON', 'LAT', 'PLOTID',*columns]]\n",
    "gdf.PLOTID = gdf.PLOTID.astype(str).astype(int)\n",
    "gdf = gdf.sort_values(\"PLOTID\", ascending=True)\n",
    "gdf"
   ]
  },
  {
   "cell_type": "code",
   "execution_count": null,
   "id": "745d148a-28b4-48bb-ad9f-9795f7bcf18e",
   "metadata": {},
   "outputs": [],
   "source": [
    "## Export\n",
    "folder = Path.home()/outdir\n",
    "folder.mkdir(exist_ok=True, parents=True)\n",
    "gdf.to_csv(folder/\"points_ceo.csv\", index=False)"
   ]
  },
  {
   "cell_type": "markdown",
   "id": "dcf774a3-d9a7-4e8c-b67c-30b609a3a0ab",
   "metadata": {},
   "source": [
    "# 2 - extract time series"
   ]
  },
  {
   "cell_type": "code",
   "execution_count": null,
   "id": "076a3806-6b82-4bd4-8e32-e395405072c2",
   "metadata": {},
   "outputs": [],
   "source": [
    "# select the point data FeatuCollection \n",
    "# write the name of your asset if you don't want to use the generated grid\n",
    "asset = False\n",
    "fc = randomInCell if asset is False else ee.FeatureCollection(asset)"
   ]
  },
  {
   "cell_type": "markdown",
   "id": "1d4dc5b2-3d18-429e-ae4a-5b16f677448a",
   "metadata": {},
   "source": [
    "## 2.1 - Algorithm parameter settings"
   ]
  },
  {
   "cell_type": "code",
   "execution_count": null,
   "id": "e8fe65b6-268e-418d-bab0-0837542a1ee1",
   "metadata": {},
   "outputs": [],
   "source": [
    "# bfast parameters\n",
    "bfast_params = {\n",
    "    'run': bfast_monitor,\n",
    "    'start_monitor': start_monitor, \n",
    "    'freq': 365,\n",
    "    'k': 3, \n",
    "    'hfrac':0.25, \n",
    "    'trend': False, \n",
    "    'level':0.05, \n",
    "    'backend':'python'}\n",
    "\n",
    "cusum_params = {\n",
    "    'run': cusum_deforest,\n",
    "    'nr_of_bootstraps': 1000\n",
    "}\n",
    "\n",
    "bs_slope_params = {\n",
    "    'run': bs_slope,\n",
    "    'nr_of_bootstraps': 1000\n",
    "}\n",
    "\n",
    "ts_metrics_params = {\n",
    "    'run': ts_metrics,\n",
    "    'outlier_removal': True,\n",
    "    'z_threshhold': 3\n",
    "}\n",
    "\n",
    "ccdc_params = {\n",
    "    'run': ccdc,\n",
    "}\n",
    "\n",
    "### DO NOT CHANGE ###\n",
    "### GATHER ALL INFO INTO A DICT #####\n",
    "config_dict = {\n",
    "    'work_dir': str(Path.home()/outdir),\n",
    "    'workers': workers,\n",
    "    'ts_params': {\n",
    "        'start_date': start_date,\n",
    "        'start_monitor': start_monitor,\n",
    "        'end_date': end_date,\n",
    "        'point_id': \"PLOTID\",\n",
    "        'grid_size': grid_size,\n",
    "        'band': band,\n",
    "        'satellite': satellite\n",
    "    },\n",
    "    'bfast_params': bfast_params,\n",
    "    'cusum_params': cusum_params,\n",
    "    'bs_slope_params': bs_slope_params,\n",
    "    'ts_metrics_params': ts_metrics_params,\n",
    "    'ccdc_params': ccdc_params\n",
    "}"
   ]
  },
  {
   "cell_type": "markdown",
   "id": "2d5c28df-5381-413c-924d-23830b97b87e",
   "metadata": {},
   "source": [
    "## 2.2 - Run the whole thing"
   ]
  },
  {
   "cell_type": "code",
   "execution_count": null,
   "id": "01ccf187-bba1-4e1a-a493-d646f51b9fc3",
   "metadata": {},
   "outputs": [],
   "source": [
    "h.get_change_data(aoi, fc, config_dict)"
   ]
  },
  {
   "cell_type": "code",
   "execution_count": null,
   "id": "f869e3ec-b6f1-41ec-a9d6-905239995fb1",
   "metadata": {},
   "outputs": [],
   "source": []
  }
 ],
 "metadata": {
  "kernelspec": {
   "display_name": "Python 3",
   "language": "python",
   "name": "python3"
  },
  "language_info": {
   "codemirror_mode": {
    "name": "ipython",
    "version": 3
   },
   "file_extension": ".py",
   "mimetype": "text/x-python",
   "name": "python",
   "nbconvert_exporter": "python",
   "pygments_lexer": "ipython3",
   "version": "3.8.10"
  }
 },
 "nbformat": 4,
 "nbformat_minor": 5
}
